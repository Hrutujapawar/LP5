{
  "nbformat": 4,
  "nbformat_minor": 0,
  "metadata": {
    "colab": {
      "provenance": [],
      "toc_visible": true
    },
    "kernelspec": {
      "name": "python3",
      "display_name": "Python 3"
    },
    "language_info": {
      "name": "python"
    }
  },
  "cells": [
    {
      "cell_type": "code",
      "execution_count": 1,
      "metadata": {
        "id": "wK94xYl9gj_G"
      },
      "outputs": [],
      "source": [
        "import tensorflow as tf\n",
        "from tensorflow.keras.datasets import boston_housing\n",
        "from tensorflow.keras.models import Sequential\n",
        "from tensorflow.keras.layers import Dense\n",
        "from tensorflow.keras.optimizers import Adam"
      ]
    },
    {
      "cell_type": "code",
      "source": [
        "#load dataset data\n",
        "\n",
        "(x_train, y_train), (x_test, y_test) = boston_housing.load_data()\n"
      ],
      "metadata": {
        "colab": {
          "base_uri": "https://localhost:8080/"
        },
        "id": "Mjh0vY_5hFMl",
        "outputId": "59a583a7-d296-4990-c69e-f157cb4c395f"
      },
      "execution_count": 2,
      "outputs": [
        {
          "output_type": "stream",
          "name": "stdout",
          "text": [
            "Downloading data from https://storage.googleapis.com/tensorflow/tf-keras-datasets/boston_housing.npz\n",
            "57026/57026 [==============================] - 0s 0us/step\n"
          ]
        }
      ]
    },
    {
      "cell_type": "code",
      "source": [
        "# Normalize the features\n",
        "mean = x_train.mean(axis=0)\n",
        "std = x_train.std(axis=0)\n",
        "x_train = (x_train - mean) / std\n",
        "x_test = (x_test - mean) / std\n"
      ],
      "metadata": {
        "id": "niATlv0UhNeM"
      },
      "execution_count": 3,
      "outputs": []
    },
    {
      "cell_type": "code",
      "source": [
        "# build the model\n",
        "model = Sequential()\n",
        "model.add(Dense(128,activation='relu',input_shape = (x_train[0].shape)))\n",
        "model.add(Dense(64,activation='relu'))\n",
        "model.add(Dense(32,activation='relu'))\n",
        "model.add(Dense(1))\n",
        "model.summary()"
      ],
      "metadata": {
        "colab": {
          "base_uri": "https://localhost:8080/"
        },
        "id": "IqdGiwajhqEy",
        "outputId": "75f973f0-16e8-4472-b5db-c281854e1dc2"
      },
      "execution_count": 9,
      "outputs": [
        {
          "output_type": "stream",
          "name": "stdout",
          "text": [
            "Model: \"sequential_1\"\n",
            "_________________________________________________________________\n",
            " Layer (type)                Output Shape              Param #   \n",
            "=================================================================\n",
            " dense_4 (Dense)             (None, 128)               1792      \n",
            "                                                                 \n",
            " dense_5 (Dense)             (None, 64)                8256      \n",
            "                                                                 \n",
            " dense_6 (Dense)             (None, 32)                2080      \n",
            "                                                                 \n",
            " dense_7 (Dense)             (None, 1)                 33        \n",
            "                                                                 \n",
            "=================================================================\n",
            "Total params: 12,161\n",
            "Trainable params: 12,161\n",
            "Non-trainable params: 0\n",
            "_________________________________________________________________\n"
          ]
        }
      ]
    },
    {
      "cell_type": "code",
      "source": [
        "\n",
        "model.compile(optimizer=Adam(learning_rate=0.001), loss='mse')"
      ],
      "metadata": {
        "id": "Qpp0w9cvh0sa"
      },
      "execution_count": 5,
      "outputs": []
    },
    {
      "cell_type": "code",
      "source": [
        "# train the model\n",
        "model.fit(x_train, y_train, batch_size=32, epochs=100, verbose=1, validation_data=(x_test,y_test))"
      ],
      "metadata": {
        "colab": {
          "base_uri": "https://localhost:8080/"
        },
        "id": "z14gRr5Ah4xH",
        "outputId": "3cea6ac9-f22a-4565-b81d-7d16be0097e5"
      },
      "execution_count": 6,
      "outputs": [
        {
          "output_type": "stream",
          "name": "stdout",
          "text": [
            "Epoch 1/100\n",
            "13/13 [==============================] - 1s 19ms/step - loss: 572.2482 - val_loss: 575.8845\n",
            "Epoch 2/100\n",
            "13/13 [==============================] - 0s 5ms/step - loss: 520.1885 - val_loss: 500.3558\n",
            "Epoch 3/100\n",
            "13/13 [==============================] - 0s 6ms/step - loss: 417.4547 - val_loss: 345.9463\n",
            "Epoch 4/100\n",
            "13/13 [==============================] - 0s 5ms/step - loss: 235.0297 - val_loss: 138.3637\n",
            "Epoch 5/100\n",
            "13/13 [==============================] - 0s 5ms/step - loss: 88.1524 - val_loss: 69.8163\n",
            "Epoch 6/100\n",
            "13/13 [==============================] - 0s 5ms/step - loss: 53.0989 - val_loss: 42.9710\n",
            "Epoch 7/100\n",
            "13/13 [==============================] - 0s 6ms/step - loss: 34.3037 - val_loss: 31.3801\n",
            "Epoch 8/100\n",
            "13/13 [==============================] - 0s 6ms/step - loss: 26.4203 - val_loss: 26.4095\n",
            "Epoch 9/100\n",
            "13/13 [==============================] - 0s 5ms/step - loss: 22.8639 - val_loss: 23.6150\n",
            "Epoch 10/100\n",
            "13/13 [==============================] - 0s 6ms/step - loss: 20.9087 - val_loss: 23.0312\n",
            "Epoch 11/100\n",
            "13/13 [==============================] - 0s 6ms/step - loss: 19.1849 - val_loss: 22.3435\n",
            "Epoch 12/100\n",
            "13/13 [==============================] - 0s 5ms/step - loss: 17.7995 - val_loss: 21.6389\n",
            "Epoch 13/100\n",
            "13/13 [==============================] - 0s 6ms/step - loss: 16.6081 - val_loss: 21.3204\n",
            "Epoch 14/100\n",
            "13/13 [==============================] - 0s 5ms/step - loss: 15.5180 - val_loss: 21.7105\n",
            "Epoch 15/100\n",
            "13/13 [==============================] - 0s 5ms/step - loss: 14.6211 - val_loss: 20.7892\n",
            "Epoch 16/100\n",
            "13/13 [==============================] - 0s 6ms/step - loss: 13.9091 - val_loss: 21.2700\n",
            "Epoch 17/100\n",
            "13/13 [==============================] - 0s 5ms/step - loss: 13.2075 - val_loss: 20.4061\n",
            "Epoch 18/100\n",
            "13/13 [==============================] - 0s 5ms/step - loss: 12.7571 - val_loss: 21.6570\n",
            "Epoch 19/100\n",
            "13/13 [==============================] - 0s 5ms/step - loss: 11.9176 - val_loss: 20.4703\n",
            "Epoch 20/100\n",
            "13/13 [==============================] - 0s 5ms/step - loss: 11.5629 - val_loss: 20.8273\n",
            "Epoch 21/100\n",
            "13/13 [==============================] - 0s 5ms/step - loss: 11.1565 - val_loss: 21.3749\n",
            "Epoch 22/100\n",
            "13/13 [==============================] - 0s 5ms/step - loss: 10.9204 - val_loss: 21.3841\n",
            "Epoch 23/100\n",
            "13/13 [==============================] - 0s 6ms/step - loss: 10.6130 - val_loss: 21.6312\n",
            "Epoch 24/100\n",
            "13/13 [==============================] - 0s 5ms/step - loss: 10.2615 - val_loss: 21.3014\n",
            "Epoch 25/100\n",
            "13/13 [==============================] - 0s 6ms/step - loss: 9.9655 - val_loss: 21.0298\n",
            "Epoch 26/100\n",
            "13/13 [==============================] - 0s 5ms/step - loss: 9.8485 - val_loss: 22.1529\n",
            "Epoch 27/100\n",
            "13/13 [==============================] - 0s 5ms/step - loss: 9.5745 - val_loss: 21.3419\n",
            "Epoch 28/100\n",
            "13/13 [==============================] - 0s 6ms/step - loss: 9.3765 - val_loss: 21.5744\n",
            "Epoch 29/100\n",
            "13/13 [==============================] - 0s 6ms/step - loss: 9.1311 - val_loss: 21.2423\n",
            "Epoch 30/100\n",
            "13/13 [==============================] - 0s 5ms/step - loss: 9.2728 - val_loss: 20.6879\n",
            "Epoch 31/100\n",
            "13/13 [==============================] - 0s 5ms/step - loss: 8.9457 - val_loss: 21.6748\n",
            "Epoch 32/100\n",
            "13/13 [==============================] - 0s 6ms/step - loss: 8.9329 - val_loss: 21.2915\n",
            "Epoch 33/100\n",
            "13/13 [==============================] - 0s 6ms/step - loss: 8.9343 - val_loss: 21.0546\n",
            "Epoch 34/100\n",
            "13/13 [==============================] - 0s 5ms/step - loss: 8.5820 - val_loss: 21.2044\n",
            "Epoch 35/100\n",
            "13/13 [==============================] - 0s 5ms/step - loss: 8.4525 - val_loss: 20.6902\n",
            "Epoch 36/100\n",
            "13/13 [==============================] - 0s 5ms/step - loss: 8.1600 - val_loss: 21.2341\n",
            "Epoch 37/100\n",
            "13/13 [==============================] - 0s 5ms/step - loss: 8.1762 - val_loss: 20.5356\n",
            "Epoch 38/100\n",
            "13/13 [==============================] - 0s 5ms/step - loss: 8.0706 - val_loss: 21.2060\n",
            "Epoch 39/100\n",
            "13/13 [==============================] - 0s 6ms/step - loss: 7.8520 - val_loss: 20.2132\n",
            "Epoch 40/100\n",
            "13/13 [==============================] - 0s 5ms/step - loss: 7.8022 - val_loss: 20.5710\n",
            "Epoch 41/100\n",
            "13/13 [==============================] - 0s 5ms/step - loss: 7.6249 - val_loss: 20.5491\n",
            "Epoch 42/100\n",
            "13/13 [==============================] - 0s 5ms/step - loss: 7.6972 - val_loss: 20.1859\n",
            "Epoch 43/100\n",
            "13/13 [==============================] - 0s 5ms/step - loss: 7.5764 - val_loss: 20.2380\n",
            "Epoch 44/100\n",
            "13/13 [==============================] - 0s 5ms/step - loss: 7.3935 - val_loss: 19.7902\n",
            "Epoch 45/100\n",
            "13/13 [==============================] - 0s 6ms/step - loss: 7.4337 - val_loss: 20.6438\n",
            "Epoch 46/100\n",
            "13/13 [==============================] - 0s 5ms/step - loss: 7.2531 - val_loss: 20.1252\n",
            "Epoch 47/100\n",
            "13/13 [==============================] - 0s 5ms/step - loss: 7.1552 - val_loss: 19.9655\n",
            "Epoch 48/100\n",
            "13/13 [==============================] - 0s 6ms/step - loss: 7.1864 - val_loss: 19.0038\n",
            "Epoch 49/100\n",
            "13/13 [==============================] - 0s 6ms/step - loss: 7.0264 - val_loss: 19.9970\n",
            "Epoch 50/100\n",
            "13/13 [==============================] - 0s 5ms/step - loss: 6.8599 - val_loss: 19.7278\n",
            "Epoch 51/100\n",
            "13/13 [==============================] - 0s 5ms/step - loss: 6.8304 - val_loss: 18.9398\n",
            "Epoch 52/100\n",
            "13/13 [==============================] - 0s 5ms/step - loss: 6.9603 - val_loss: 19.5837\n",
            "Epoch 53/100\n",
            "13/13 [==============================] - 0s 6ms/step - loss: 6.9551 - val_loss: 19.1439\n",
            "Epoch 54/100\n",
            "13/13 [==============================] - 0s 5ms/step - loss: 6.6564 - val_loss: 18.4320\n",
            "Epoch 55/100\n",
            "13/13 [==============================] - 0s 6ms/step - loss: 6.6327 - val_loss: 19.4592\n",
            "Epoch 56/100\n",
            "13/13 [==============================] - 0s 6ms/step - loss: 6.5439 - val_loss: 18.6710\n",
            "Epoch 57/100\n",
            "13/13 [==============================] - 0s 5ms/step - loss: 6.5166 - val_loss: 19.6003\n",
            "Epoch 58/100\n",
            "13/13 [==============================] - 0s 5ms/step - loss: 6.4637 - val_loss: 18.1849\n",
            "Epoch 59/100\n",
            "13/13 [==============================] - 0s 5ms/step - loss: 6.1998 - val_loss: 18.3841\n",
            "Epoch 60/100\n",
            "13/13 [==============================] - 0s 5ms/step - loss: 6.1823 - val_loss: 18.8708\n",
            "Epoch 61/100\n",
            "13/13 [==============================] - 0s 5ms/step - loss: 6.0167 - val_loss: 18.3186\n",
            "Epoch 62/100\n",
            "13/13 [==============================] - 0s 5ms/step - loss: 5.9708 - val_loss: 18.2569\n",
            "Epoch 63/100\n",
            "13/13 [==============================] - 0s 5ms/step - loss: 6.0426 - val_loss: 18.0630\n",
            "Epoch 64/100\n",
            "13/13 [==============================] - 0s 5ms/step - loss: 5.8827 - val_loss: 18.0188\n",
            "Epoch 65/100\n",
            "13/13 [==============================] - 0s 5ms/step - loss: 5.7983 - val_loss: 17.8906\n",
            "Epoch 66/100\n",
            "13/13 [==============================] - 0s 5ms/step - loss: 5.8734 - val_loss: 17.4877\n",
            "Epoch 67/100\n",
            "13/13 [==============================] - 0s 5ms/step - loss: 5.8768 - val_loss: 18.3194\n",
            "Epoch 68/100\n",
            "13/13 [==============================] - 0s 5ms/step - loss: 5.8381 - val_loss: 17.9193\n",
            "Epoch 69/100\n",
            "13/13 [==============================] - 0s 5ms/step - loss: 5.6108 - val_loss: 17.9269\n",
            "Epoch 70/100\n",
            "13/13 [==============================] - 0s 5ms/step - loss: 5.7162 - val_loss: 17.2933\n",
            "Epoch 71/100\n",
            "13/13 [==============================] - 0s 6ms/step - loss: 5.6502 - val_loss: 17.2080\n",
            "Epoch 72/100\n",
            "13/13 [==============================] - 0s 5ms/step - loss: 5.7188 - val_loss: 17.3868\n",
            "Epoch 73/100\n",
            "13/13 [==============================] - 0s 5ms/step - loss: 5.5342 - val_loss: 17.9479\n",
            "Epoch 74/100\n",
            "13/13 [==============================] - 0s 5ms/step - loss: 5.4612 - val_loss: 16.6109\n",
            "Epoch 75/100\n",
            "13/13 [==============================] - 0s 6ms/step - loss: 5.2591 - val_loss: 17.9761\n",
            "Epoch 76/100\n",
            "13/13 [==============================] - 0s 5ms/step - loss: 5.2595 - val_loss: 17.4086\n",
            "Epoch 77/100\n",
            "13/13 [==============================] - 0s 6ms/step - loss: 5.2904 - val_loss: 16.7885\n",
            "Epoch 78/100\n",
            "13/13 [==============================] - 0s 5ms/step - loss: 5.2134 - val_loss: 16.9493\n",
            "Epoch 79/100\n",
            "13/13 [==============================] - 0s 6ms/step - loss: 5.0394 - val_loss: 15.8531\n",
            "Epoch 80/100\n",
            "13/13 [==============================] - 0s 6ms/step - loss: 5.1853 - val_loss: 18.1992\n",
            "Epoch 81/100\n",
            "13/13 [==============================] - 0s 6ms/step - loss: 5.1027 - val_loss: 15.8694\n",
            "Epoch 82/100\n",
            "13/13 [==============================] - 0s 6ms/step - loss: 5.0618 - val_loss: 17.2475\n",
            "Epoch 83/100\n",
            "13/13 [==============================] - 0s 5ms/step - loss: 4.8819 - val_loss: 16.4281\n",
            "Epoch 84/100\n",
            "13/13 [==============================] - 0s 5ms/step - loss: 4.8052 - val_loss: 16.2005\n",
            "Epoch 85/100\n",
            "13/13 [==============================] - 0s 8ms/step - loss: 4.7218 - val_loss: 17.5040\n",
            "Epoch 86/100\n",
            "13/13 [==============================] - 0s 6ms/step - loss: 4.9130 - val_loss: 15.5760\n",
            "Epoch 87/100\n",
            "13/13 [==============================] - 0s 5ms/step - loss: 4.7401 - val_loss: 15.8574\n",
            "Epoch 88/100\n",
            "13/13 [==============================] - 0s 5ms/step - loss: 4.6336 - val_loss: 16.4236\n",
            "Epoch 89/100\n",
            "13/13 [==============================] - 0s 5ms/step - loss: 4.6195 - val_loss: 16.5744\n",
            "Epoch 90/100\n",
            "13/13 [==============================] - 0s 5ms/step - loss: 4.5402 - val_loss: 15.3002\n",
            "Epoch 91/100\n",
            "13/13 [==============================] - 0s 6ms/step - loss: 4.6359 - val_loss: 16.2324\n",
            "Epoch 92/100\n",
            "13/13 [==============================] - 0s 5ms/step - loss: 4.4832 - val_loss: 15.8787\n",
            "Epoch 93/100\n",
            "13/13 [==============================] - 0s 5ms/step - loss: 4.4381 - val_loss: 15.0627\n",
            "Epoch 94/100\n",
            "13/13 [==============================] - 0s 6ms/step - loss: 4.4112 - val_loss: 16.3434\n",
            "Epoch 95/100\n",
            "13/13 [==============================] - 0s 6ms/step - loss: 4.3712 - val_loss: 15.2226\n",
            "Epoch 96/100\n",
            "13/13 [==============================] - 0s 5ms/step - loss: 4.5785 - val_loss: 14.8348\n",
            "Epoch 97/100\n",
            "13/13 [==============================] - 0s 5ms/step - loss: 4.2059 - val_loss: 15.6198\n",
            "Epoch 98/100\n",
            "13/13 [==============================] - 0s 6ms/step - loss: 4.1037 - val_loss: 15.5855\n",
            "Epoch 99/100\n",
            "13/13 [==============================] - 0s 4ms/step - loss: 4.2267 - val_loss: 15.1934\n",
            "Epoch 100/100\n",
            "13/13 [==============================] - 0s 5ms/step - loss: 4.2645 - val_loss: 16.0124\n"
          ]
        },
        {
          "output_type": "execute_result",
          "data": {
            "text/plain": [
              "<keras.callbacks.History at 0x7f8643fcf520>"
            ]
          },
          "metadata": {},
          "execution_count": 6
        }
      ]
    },
    {
      "cell_type": "code",
      "source": [
        "# testing\n",
        "loss = model.evaluate(x_test, y_test, verbose=0)\n",
        "print(f\"Mean Squared Error (MSE): {loss:.2f}\")"
      ],
      "metadata": {
        "colab": {
          "base_uri": "https://localhost:8080/"
        },
        "id": "3-f4k7-7h9vi",
        "outputId": "a664500a-e7f5-4da8-b08c-3bd9a51a47df"
      },
      "execution_count": 7,
      "outputs": [
        {
          "output_type": "stream",
          "name": "stdout",
          "text": [
            "Mean Squared Error (MSE): 16.01\n"
          ]
        }
      ]
    },
    {
      "cell_type": "code",
      "source": [
        "# testing on maual data\n",
        "test_input = [[-0.3754937 , -0.48361547, -0.20791668, -0.25683275,  0.23597582,-0.48113631, -0.94641237, -0.67000565, -0.39603557, -0.08965908, 0.32944629,  0.44807713,  0.11720047]]\n",
        "predicted_value = model.predict(test_input)\n",
        "print(\"actual value is :\",y_test[4])\n",
        "print(\"predicted value is : \",predicted_value)"
      ],
      "metadata": {
        "colab": {
          "base_uri": "https://localhost:8080/"
        },
        "id": "U-A2L1psiCe5",
        "outputId": "71ac866b-5451-4486-902d-b526c23547e6"
      },
      "execution_count": 8,
      "outputs": [
        {
          "output_type": "stream",
          "name": "stdout",
          "text": [
            "1/1 [==============================] - 0s 112ms/step\n",
            "actual value is : 22.2\n",
            "predicted value is :  [[21.707272]]\n"
          ]
        }
      ]
    }
  ]
}