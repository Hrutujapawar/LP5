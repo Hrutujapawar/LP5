{
  "nbformat": 4,
  "nbformat_minor": 0,
  "metadata": {
    "colab": {
      "provenance": [],
      "toc_visible": true
    },
    "kernelspec": {
      "name": "python3",
      "display_name": "Python 3"
    },
    "language_info": {
      "name": "python"
    }
  },
  "cells": [
    {
      "cell_type": "code",
      "execution_count": 19,
      "metadata": {
        "id": "PnjBZfkkB1xz"
      },
      "outputs": [],
      "source": [
        "import numpy as np\n",
        "from tensorflow.keras.models import Sequential\n",
        "from tensorflow.keras.layers import Dense, Dropout\n",
        "from tensorflow.keras.optimizers import RMSprop\n",
        "from tensorflow.keras.datasets import mnist\n",
        "import matplotlib.pyplot as plt\n",
        "from sklearn import preprocessing\n",
        "from sklearn import metrics\n"
      ]
    },
    {
      "cell_type": "code",
      "source": [
        "(x_train, y_train), (x_test, y_test) = mnist.load_data()\n",
        "print(\"X_train shape\", x_train.shape)\n",
        "print(\"y_train shape\", y_train.shape)\n",
        "print(\"X_test shape\", x_test.shape)\n",
        "print(\"y_test shape\", y_test.shape)"
      ],
      "metadata": {
        "colab": {
          "base_uri": "https://localhost:8080/"
        },
        "id": "P2KfWEmsKyYx",
        "outputId": "c54a5b6b-919b-4b0f-a75e-9c332a7f9943"
      },
      "execution_count": 20,
      "outputs": [
        {
          "output_type": "stream",
          "name": "stdout",
          "text": [
            "X_train shape (60000, 28, 28)\n",
            "y_train shape (60000,)\n",
            "X_test shape (10000, 28, 28)\n",
            "y_test shape (10000,)\n"
          ]
        }
      ]
    },
    {
      "cell_type": "code",
      "source": [
        "# Reshape the dataset as it is 3 dimensional\n",
        "x_train = x_train.reshape(60000, 784)\n",
        "x_test = x_test.reshape(10000, 784)\n",
        "x_train = x_train.astype('float32')\n",
        "x_test = x_test.astype('float32')\n",
        "x_train /= 255 \n",
        "# Each image has Intensity from 0 to 255\n",
        "x_test /= 255\n",
        "num_classes = 10\n",
        "y_train = np.eye(num_classes, dtype='uint8')[y_train]\n",
        "y_test = np.eye(num_classes, dtype='uint8')[y_test]"
      ],
      "metadata": {
        "id": "stqBHIXSO-j0"
      },
      "execution_count": 21,
      "outputs": []
    },
    {
      "cell_type": "code",
      "source": [
        "# Build the model\n",
        "import tensorflow as tf\n",
        "model = Sequential()\n",
        "model.add(Dense(512, activation='relu', input_shape=(784,)))\n",
        "model.add(Dropout(0.2))\n",
        "model.add(Dense(512, activation='relu'))\n",
        "model.add(Dropout(0.2))\n",
        "model.add(Dense(num_classes, activation='softmax'))\n"
      ],
      "metadata": {
        "id": "MI4rH5c1P3Ot"
      },
      "execution_count": 22,
      "outputs": []
    },
    {
      "cell_type": "code",
      "source": [
        "# Compile the model\n",
        "model.compile(loss='categorical_crossentropy',optimizer=RMSprop(),metrics=['accuracy'\n",
        "])"
      ],
      "metadata": {
        "id": "OfUiATIJQCig"
      },
      "execution_count": 23,
      "outputs": []
    },
    {
      "cell_type": "code",
      "source": [
        "# Train the model\n",
        "batch_size = 128\n",
        "epochs = 20\n",
        "history = model.fit(x_train,\n",
        "y_train,batch_size=batch_size,epochs=epochs,verbose=1,validation_data=(x_test,\n",
        "y_test))"
      ],
      "metadata": {
        "colab": {
          "base_uri": "https://localhost:8080/"
        },
        "id": "X0y9gM8SQGmX",
        "outputId": "ef85414f-ab72-4b89-8a7f-9ee0f8afb0e9"
      },
      "execution_count": 24,
      "outputs": [
        {
          "output_type": "stream",
          "name": "stdout",
          "text": [
            "Epoch 1/20\n",
            "469/469 [==============================] - 9s 18ms/step - loss: 0.2537 - accuracy: 0.9226 - val_loss: 0.1233 - val_accuracy: 0.9588\n",
            "Epoch 2/20\n",
            "469/469 [==============================] - 8s 17ms/step - loss: 0.1046 - accuracy: 0.9679 - val_loss: 0.0734 - val_accuracy: 0.9782\n",
            "Epoch 3/20\n",
            "469/469 [==============================] - 7s 15ms/step - loss: 0.0723 - accuracy: 0.9774 - val_loss: 0.0687 - val_accuracy: 0.9799\n",
            "Epoch 4/20\n",
            "469/469 [==============================] - 8s 18ms/step - loss: 0.0583 - accuracy: 0.9818 - val_loss: 0.0697 - val_accuracy: 0.9796\n",
            "Epoch 5/20\n",
            "469/469 [==============================] - 7s 15ms/step - loss: 0.0468 - accuracy: 0.9852 - val_loss: 0.0669 - val_accuracy: 0.9817\n",
            "Epoch 6/20\n",
            "469/469 [==============================] - 8s 17ms/step - loss: 0.0402 - accuracy: 0.9869 - val_loss: 0.0607 - val_accuracy: 0.9841\n",
            "Epoch 7/20\n",
            "469/469 [==============================] - 8s 17ms/step - loss: 0.0355 - accuracy: 0.9885 - val_loss: 0.0651 - val_accuracy: 0.9836\n",
            "Epoch 8/20\n",
            "469/469 [==============================] - 7s 15ms/step - loss: 0.0280 - accuracy: 0.9906 - val_loss: 0.0681 - val_accuracy: 0.9833\n",
            "Epoch 9/20\n",
            "469/469 [==============================] - 8s 17ms/step - loss: 0.0259 - accuracy: 0.9919 - val_loss: 0.0673 - val_accuracy: 0.9827\n",
            "Epoch 10/20\n",
            "469/469 [==============================] - 7s 15ms/step - loss: 0.0218 - accuracy: 0.9929 - val_loss: 0.0655 - val_accuracy: 0.9843\n",
            "Epoch 11/20\n",
            "469/469 [==============================] - 8s 18ms/step - loss: 0.0213 - accuracy: 0.9933 - val_loss: 0.0648 - val_accuracy: 0.9840\n",
            "Epoch 12/20\n",
            "469/469 [==============================] - 8s 17ms/step - loss: 0.0173 - accuracy: 0.9942 - val_loss: 0.0650 - val_accuracy: 0.9856\n",
            "Epoch 13/20\n",
            "469/469 [==============================] - 7s 15ms/step - loss: 0.0166 - accuracy: 0.9946 - val_loss: 0.0740 - val_accuracy: 0.9850\n",
            "Epoch 14/20\n",
            "469/469 [==============================] - 8s 17ms/step - loss: 0.0155 - accuracy: 0.9949 - val_loss: 0.0743 - val_accuracy: 0.9837\n",
            "Epoch 15/20\n",
            "469/469 [==============================] - 7s 15ms/step - loss: 0.0135 - accuracy: 0.9956 - val_loss: 0.0735 - val_accuracy: 0.9855\n",
            "Epoch 16/20\n",
            "469/469 [==============================] - 8s 17ms/step - loss: 0.0129 - accuracy: 0.9957 - val_loss: 0.0798 - val_accuracy: 0.9846\n",
            "Epoch 17/20\n",
            "469/469 [==============================] - 8s 17ms/step - loss: 0.0115 - accuracy: 0.9962 - val_loss: 0.0818 - val_accuracy: 0.9841\n",
            "Epoch 18/20\n",
            "469/469 [==============================] - 7s 15ms/step - loss: 0.0128 - accuracy: 0.9958 - val_loss: 0.0763 - val_accuracy: 0.9845\n",
            "Epoch 19/20\n",
            "469/469 [==============================] - 8s 18ms/step - loss: 0.0098 - accuracy: 0.9968 - val_loss: 0.0745 - val_accuracy: 0.9863\n",
            "Epoch 20/20\n",
            "469/469 [==============================] - 7s 15ms/step - loss: 0.0109 - accuracy: 0.9965 - val_loss: 0.0900 - val_accuracy: 0.9843\n"
          ]
        }
      ]
    },
    {
      "cell_type": "code",
      "source": [
        "\n",
        "# Evaluate the model\n",
        "score = model.evaluate(x_test, y_test, verbose=0)\n",
        "print('Test loss:', score[0])\n",
        "print('Test accuracy:', score[1])"
      ],
      "metadata": {
        "colab": {
          "base_uri": "https://localhost:8080/"
        },
        "id": "S4HOpNeMQwnx",
        "outputId": "c853b654-99b3-411c-9f32-503f5642ba0b"
      },
      "execution_count": 25,
      "outputs": [
        {
          "output_type": "stream",
          "name": "stdout",
          "text": [
            "Test loss: 0.0900132954120636\n",
            "Test accuracy: 0.9843000173568726\n"
          ]
        }
      ]
    }
  ]
}